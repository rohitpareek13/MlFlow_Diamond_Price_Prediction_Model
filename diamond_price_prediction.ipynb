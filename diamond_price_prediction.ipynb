{
 "cells": [
  {
   "cell_type": "markdown",
   "id": "c6df09f0",
   "metadata": {},
   "source": [
    "# Diamond Price Prediction\n",
    "#### Building KNN Model.\n",
    "#### Serialization & De-Serialization for creating the application of the ML model."
   ]
  },
  {
   "cell_type": "markdown",
   "id": "f5d3c723",
   "metadata": {},
   "source": [
    "### Data Description:\n",
    "1. Title : Diamonds Dataset\n",
    "\n",
    "2. the 7th column \"price\" is the values to be predicted.\n",
    "\n",
    "3. Data Type : Mixed ( Numerical + Categorical)\n",
    "\t\n",
    "4. Dataset has nearly 54000 instances.\n",
    "\n",
    "5. It has 10 features.\n",
    "\n",
    "6. Features \n",
    "\n",
    "\tprice : price in US dollars (\\$326--\\$18,823)\n",
    "\n",
    "\tcarat : weight of the diamond (0.2--5.01)\n",
    "\n",
    "\tcut   : quality of the cut (Fair, Good, Very Good, Premium, Ideal)\n",
    "\n",
    "\tcolor : diamond colour, from J (worst) to D (best)\n",
    "\n",
    "\tclarity : a measurement of how clear the diamond is (I1 (worst), SI2, SI1, VS2, VS1, VVS2, VVS1, IF (best))\n",
    "\n",
    "\tx : length in mm (0--10.74)\n",
    "\n",
    "\ty : width in mm (0--58.9)\n",
    "\n",
    "\tz : depth in mm (0--31.8)\n",
    "\n",
    "\tdepth : total depth percentage = z / mean(x, y) = 2 * z / (x + y) (43--79)\n",
    "\n",
    "\ttable : width of top of diamond relative to widest point (43--95)\n",
    "\n",
    "7. Caution : Handle Categorical data before building a model. "
   ]
  },
  {
   "cell_type": "markdown",
   "id": "aebec0ac",
   "metadata": {},
   "source": [
    "### Business Understanding\n",
    "Diamond is one of the strongest and the most valuable substances produced naturally as a form of carbon. However, unlike gold and silver, determining the price of a diamond is very complex because many features are to be considered for determining its price.<br>\n",
    "\n",
    "The value of diamonds depends upon their structure, cut, inclusions (impurity), carats, and many other features. The uses of diamonds are many, such as in industries, as they are effective in cutting, polishing, and drilling. Since diamonds are extremely valuable, they have been traded across different countries for centuries now and this trade only increases with time. They are graded and certified based on the \"four Cs\", which are color, cut, clarity, and carat. These are the only metrics that are being used to the quality of diamonds and sets the price of the diamond. This metric allows uniform understanding for people across the world to buy diamonds, which allows ease of trade and value for what is purchased.\n",
    "\n",
    "### Understanding the 4 C's\n",
    "\n",
    "* Cut\n",
    "* Color\n",
    "* Clarity\n",
    "* Carat"
   ]
  },
  {
   "cell_type": "markdown",
   "id": "3b8c2394",
   "metadata": {},
   "source": [
    "Credits - https://www.brides.com/story/choosing-engagement-ring-four-cs\n"
   ]
  },
  {
   "cell_type": "markdown",
   "id": "be69c2e5",
   "metadata": {},
   "source": [
    "### Load Data"
   ]
  },
  {
   "cell_type": "code",
   "execution_count": 1,
   "id": "c7408606",
   "metadata": {},
   "outputs": [],
   "source": [
    "# Importing important libraries\n",
    "import pandas as pd\n",
    "import numpy as np\n",
    "import seaborn as sns\n",
    "import matplotlib.pyplot as plt\n",
    "%matplotlib inline\n",
    "import warnings\n",
    "warnings.filterwarnings('ignore')"
   ]
  },
  {
   "cell_type": "code",
   "execution_count": 2,
   "id": "f54119ba",
   "metadata": {},
   "outputs": [],
   "source": [
    "# Loading dataset\n",
    "df = pd.read_csv(\"diamonds.csv\")"
   ]
  },
  {
   "cell_type": "code",
   "execution_count": 3,
   "id": "a1bb15ea",
   "metadata": {},
   "outputs": [
    {
     "data": {
      "text/html": [
       "<div>\n",
       "<style scoped>\n",
       "    .dataframe tbody tr th:only-of-type {\n",
       "        vertical-align: middle;\n",
       "    }\n",
       "\n",
       "    .dataframe tbody tr th {\n",
       "        vertical-align: top;\n",
       "    }\n",
       "\n",
       "    .dataframe thead th {\n",
       "        text-align: right;\n",
       "    }\n",
       "</style>\n",
       "<table border=\"1\" class=\"dataframe\">\n",
       "  <thead>\n",
       "    <tr style=\"text-align: right;\">\n",
       "      <th></th>\n",
       "      <th>carat</th>\n",
       "      <th>cut</th>\n",
       "      <th>color</th>\n",
       "      <th>clarity</th>\n",
       "      <th>depth</th>\n",
       "      <th>table</th>\n",
       "      <th>price</th>\n",
       "      <th>x</th>\n",
       "      <th>y</th>\n",
       "      <th>z</th>\n",
       "    </tr>\n",
       "  </thead>\n",
       "  <tbody>\n",
       "    <tr>\n",
       "      <th>0</th>\n",
       "      <td>0.23</td>\n",
       "      <td>Ideal</td>\n",
       "      <td>E</td>\n",
       "      <td>SI2</td>\n",
       "      <td>61.5</td>\n",
       "      <td>55.0</td>\n",
       "      <td>326</td>\n",
       "      <td>3.95</td>\n",
       "      <td>3.98</td>\n",
       "      <td>2.43</td>\n",
       "    </tr>\n",
       "    <tr>\n",
       "      <th>1</th>\n",
       "      <td>0.21</td>\n",
       "      <td>Premium</td>\n",
       "      <td>E</td>\n",
       "      <td>SI1</td>\n",
       "      <td>59.8</td>\n",
       "      <td>61.0</td>\n",
       "      <td>326</td>\n",
       "      <td>3.89</td>\n",
       "      <td>3.84</td>\n",
       "      <td>2.31</td>\n",
       "    </tr>\n",
       "    <tr>\n",
       "      <th>2</th>\n",
       "      <td>0.23</td>\n",
       "      <td>Good</td>\n",
       "      <td>E</td>\n",
       "      <td>VS1</td>\n",
       "      <td>56.9</td>\n",
       "      <td>65.0</td>\n",
       "      <td>327</td>\n",
       "      <td>4.05</td>\n",
       "      <td>4.07</td>\n",
       "      <td>2.31</td>\n",
       "    </tr>\n",
       "    <tr>\n",
       "      <th>3</th>\n",
       "      <td>0.29</td>\n",
       "      <td>Premium</td>\n",
       "      <td>I</td>\n",
       "      <td>VS2</td>\n",
       "      <td>62.4</td>\n",
       "      <td>58.0</td>\n",
       "      <td>334</td>\n",
       "      <td>4.20</td>\n",
       "      <td>4.23</td>\n",
       "      <td>2.63</td>\n",
       "    </tr>\n",
       "    <tr>\n",
       "      <th>4</th>\n",
       "      <td>0.31</td>\n",
       "      <td>Good</td>\n",
       "      <td>J</td>\n",
       "      <td>SI2</td>\n",
       "      <td>63.3</td>\n",
       "      <td>58.0</td>\n",
       "      <td>335</td>\n",
       "      <td>4.34</td>\n",
       "      <td>4.35</td>\n",
       "      <td>2.75</td>\n",
       "    </tr>\n",
       "  </tbody>\n",
       "</table>\n",
       "</div>"
      ],
      "text/plain": [
       "   carat      cut color clarity  depth  table  price     x     y     z\n",
       "0   0.23    Ideal     E     SI2   61.5   55.0    326  3.95  3.98  2.43\n",
       "1   0.21  Premium     E     SI1   59.8   61.0    326  3.89  3.84  2.31\n",
       "2   0.23     Good     E     VS1   56.9   65.0    327  4.05  4.07  2.31\n",
       "3   0.29  Premium     I     VS2   62.4   58.0    334  4.20  4.23  2.63\n",
       "4   0.31     Good     J     SI2   63.3   58.0    335  4.34  4.35  2.75"
      ]
     },
     "execution_count": 3,
     "metadata": {},
     "output_type": "execute_result"
    }
   ],
   "source": [
    "# First 5 columns\n",
    "df.head()"
   ]
  },
  {
   "cell_type": "code",
   "execution_count": 4,
   "id": "12ad50a5",
   "metadata": {},
   "outputs": [
    {
     "data": {
      "text/plain": [
       "(53940, 10)"
      ]
     },
     "execution_count": 4,
     "metadata": {},
     "output_type": "execute_result"
    }
   ],
   "source": [
    "# Shape of data\n",
    "df.shape"
   ]
  },
  {
   "cell_type": "code",
   "execution_count": 5,
   "id": "c4f27663",
   "metadata": {},
   "outputs": [],
   "source": [
    "# Renaming columns\n",
    "df.rename(columns={'x':'length', 'y':'width', 'z':'depth', 'depth':'depth%'}, inplace = True)"
   ]
  },
  {
   "cell_type": "code",
   "execution_count": 6,
   "id": "37179cb8",
   "metadata": {},
   "outputs": [
    {
     "data": {
      "text/html": [
       "<div>\n",
       "<style scoped>\n",
       "    .dataframe tbody tr th:only-of-type {\n",
       "        vertical-align: middle;\n",
       "    }\n",
       "\n",
       "    .dataframe tbody tr th {\n",
       "        vertical-align: top;\n",
       "    }\n",
       "\n",
       "    .dataframe thead th {\n",
       "        text-align: right;\n",
       "    }\n",
       "</style>\n",
       "<table border=\"1\" class=\"dataframe\">\n",
       "  <thead>\n",
       "    <tr style=\"text-align: right;\">\n",
       "      <th></th>\n",
       "      <th>price</th>\n",
       "    </tr>\n",
       "  </thead>\n",
       "  <tbody>\n",
       "    <tr>\n",
       "      <th>0</th>\n",
       "      <td>326</td>\n",
       "    </tr>\n",
       "    <tr>\n",
       "      <th>1</th>\n",
       "      <td>326</td>\n",
       "    </tr>\n",
       "    <tr>\n",
       "      <th>2</th>\n",
       "      <td>327</td>\n",
       "    </tr>\n",
       "    <tr>\n",
       "      <th>3</th>\n",
       "      <td>334</td>\n",
       "    </tr>\n",
       "    <tr>\n",
       "      <th>4</th>\n",
       "      <td>335</td>\n",
       "    </tr>\n",
       "  </tbody>\n",
       "</table>\n",
       "</div>"
      ],
      "text/plain": [
       "   price\n",
       "0    326\n",
       "1    326\n",
       "2    327\n",
       "3    334\n",
       "4    335"
      ]
     },
     "execution_count": 6,
     "metadata": {},
     "output_type": "execute_result"
    }
   ],
   "source": [
    "# Creating Target column seperately to concat it at the end of the columns\n",
    "df_target = df[['price']]\n",
    "df_target.head()"
   ]
  },
  {
   "cell_type": "code",
   "execution_count": 7,
   "id": "6e7768fe",
   "metadata": {},
   "outputs": [
    {
     "data": {
      "text/html": [
       "<div>\n",
       "<style scoped>\n",
       "    .dataframe tbody tr th:only-of-type {\n",
       "        vertical-align: middle;\n",
       "    }\n",
       "\n",
       "    .dataframe tbody tr th {\n",
       "        vertical-align: top;\n",
       "    }\n",
       "\n",
       "    .dataframe thead th {\n",
       "        text-align: right;\n",
       "    }\n",
       "</style>\n",
       "<table border=\"1\" class=\"dataframe\">\n",
       "  <thead>\n",
       "    <tr style=\"text-align: right;\">\n",
       "      <th></th>\n",
       "      <th>carat</th>\n",
       "      <th>cut</th>\n",
       "      <th>color</th>\n",
       "      <th>clarity</th>\n",
       "      <th>depth%</th>\n",
       "      <th>table</th>\n",
       "      <th>length</th>\n",
       "      <th>width</th>\n",
       "      <th>depth</th>\n",
       "    </tr>\n",
       "  </thead>\n",
       "  <tbody>\n",
       "    <tr>\n",
       "      <th>0</th>\n",
       "      <td>0.23</td>\n",
       "      <td>Ideal</td>\n",
       "      <td>E</td>\n",
       "      <td>SI2</td>\n",
       "      <td>61.5</td>\n",
       "      <td>55.0</td>\n",
       "      <td>3.95</td>\n",
       "      <td>3.98</td>\n",
       "      <td>2.43</td>\n",
       "    </tr>\n",
       "    <tr>\n",
       "      <th>1</th>\n",
       "      <td>0.21</td>\n",
       "      <td>Premium</td>\n",
       "      <td>E</td>\n",
       "      <td>SI1</td>\n",
       "      <td>59.8</td>\n",
       "      <td>61.0</td>\n",
       "      <td>3.89</td>\n",
       "      <td>3.84</td>\n",
       "      <td>2.31</td>\n",
       "    </tr>\n",
       "    <tr>\n",
       "      <th>2</th>\n",
       "      <td>0.23</td>\n",
       "      <td>Good</td>\n",
       "      <td>E</td>\n",
       "      <td>VS1</td>\n",
       "      <td>56.9</td>\n",
       "      <td>65.0</td>\n",
       "      <td>4.05</td>\n",
       "      <td>4.07</td>\n",
       "      <td>2.31</td>\n",
       "    </tr>\n",
       "    <tr>\n",
       "      <th>3</th>\n",
       "      <td>0.29</td>\n",
       "      <td>Premium</td>\n",
       "      <td>I</td>\n",
       "      <td>VS2</td>\n",
       "      <td>62.4</td>\n",
       "      <td>58.0</td>\n",
       "      <td>4.20</td>\n",
       "      <td>4.23</td>\n",
       "      <td>2.63</td>\n",
       "    </tr>\n",
       "    <tr>\n",
       "      <th>4</th>\n",
       "      <td>0.31</td>\n",
       "      <td>Good</td>\n",
       "      <td>J</td>\n",
       "      <td>SI2</td>\n",
       "      <td>63.3</td>\n",
       "      <td>58.0</td>\n",
       "      <td>4.34</td>\n",
       "      <td>4.35</td>\n",
       "      <td>2.75</td>\n",
       "    </tr>\n",
       "  </tbody>\n",
       "</table>\n",
       "</div>"
      ],
      "text/plain": [
       "   carat      cut color clarity  depth%  table  length  width  depth\n",
       "0   0.23    Ideal     E     SI2    61.5   55.0    3.95   3.98   2.43\n",
       "1   0.21  Premium     E     SI1    59.8   61.0    3.89   3.84   2.31\n",
       "2   0.23     Good     E     VS1    56.9   65.0    4.05   4.07   2.31\n",
       "3   0.29  Premium     I     VS2    62.4   58.0    4.20   4.23   2.63\n",
       "4   0.31     Good     J     SI2    63.3   58.0    4.34   4.35   2.75"
      ]
     },
     "execution_count": 7,
     "metadata": {},
     "output_type": "execute_result"
    }
   ],
   "source": [
    "# Dropping the Target column\n",
    "df = df.drop('price', axis = 1)\n",
    "df.head()"
   ]
  },
  {
   "cell_type": "code",
   "execution_count": 8,
   "id": "bae0e48e",
   "metadata": {},
   "outputs": [
    {
     "data": {
      "text/html": [
       "<div>\n",
       "<style scoped>\n",
       "    .dataframe tbody tr th:only-of-type {\n",
       "        vertical-align: middle;\n",
       "    }\n",
       "\n",
       "    .dataframe tbody tr th {\n",
       "        vertical-align: top;\n",
       "    }\n",
       "\n",
       "    .dataframe thead th {\n",
       "        text-align: right;\n",
       "    }\n",
       "</style>\n",
       "<table border=\"1\" class=\"dataframe\">\n",
       "  <thead>\n",
       "    <tr style=\"text-align: right;\">\n",
       "      <th></th>\n",
       "      <th>carat</th>\n",
       "      <th>cut</th>\n",
       "      <th>color</th>\n",
       "      <th>clarity</th>\n",
       "      <th>depth%</th>\n",
       "      <th>table</th>\n",
       "      <th>length</th>\n",
       "      <th>width</th>\n",
       "      <th>depth</th>\n",
       "      <th>price</th>\n",
       "    </tr>\n",
       "  </thead>\n",
       "  <tbody>\n",
       "    <tr>\n",
       "      <th>0</th>\n",
       "      <td>0.23</td>\n",
       "      <td>Ideal</td>\n",
       "      <td>E</td>\n",
       "      <td>SI2</td>\n",
       "      <td>61.5</td>\n",
       "      <td>55.0</td>\n",
       "      <td>3.95</td>\n",
       "      <td>3.98</td>\n",
       "      <td>2.43</td>\n",
       "      <td>326</td>\n",
       "    </tr>\n",
       "    <tr>\n",
       "      <th>1</th>\n",
       "      <td>0.21</td>\n",
       "      <td>Premium</td>\n",
       "      <td>E</td>\n",
       "      <td>SI1</td>\n",
       "      <td>59.8</td>\n",
       "      <td>61.0</td>\n",
       "      <td>3.89</td>\n",
       "      <td>3.84</td>\n",
       "      <td>2.31</td>\n",
       "      <td>326</td>\n",
       "    </tr>\n",
       "    <tr>\n",
       "      <th>2</th>\n",
       "      <td>0.23</td>\n",
       "      <td>Good</td>\n",
       "      <td>E</td>\n",
       "      <td>VS1</td>\n",
       "      <td>56.9</td>\n",
       "      <td>65.0</td>\n",
       "      <td>4.05</td>\n",
       "      <td>4.07</td>\n",
       "      <td>2.31</td>\n",
       "      <td>327</td>\n",
       "    </tr>\n",
       "    <tr>\n",
       "      <th>3</th>\n",
       "      <td>0.29</td>\n",
       "      <td>Premium</td>\n",
       "      <td>I</td>\n",
       "      <td>VS2</td>\n",
       "      <td>62.4</td>\n",
       "      <td>58.0</td>\n",
       "      <td>4.20</td>\n",
       "      <td>4.23</td>\n",
       "      <td>2.63</td>\n",
       "      <td>334</td>\n",
       "    </tr>\n",
       "    <tr>\n",
       "      <th>4</th>\n",
       "      <td>0.31</td>\n",
       "      <td>Good</td>\n",
       "      <td>J</td>\n",
       "      <td>SI2</td>\n",
       "      <td>63.3</td>\n",
       "      <td>58.0</td>\n",
       "      <td>4.34</td>\n",
       "      <td>4.35</td>\n",
       "      <td>2.75</td>\n",
       "      <td>335</td>\n",
       "    </tr>\n",
       "  </tbody>\n",
       "</table>\n",
       "</div>"
      ],
      "text/plain": [
       "   carat      cut color clarity  depth%  table  length  width  depth  price\n",
       "0   0.23    Ideal     E     SI2    61.5   55.0    3.95   3.98   2.43    326\n",
       "1   0.21  Premium     E     SI1    59.8   61.0    3.89   3.84   2.31    326\n",
       "2   0.23     Good     E     VS1    56.9   65.0    4.05   4.07   2.31    327\n",
       "3   0.29  Premium     I     VS2    62.4   58.0    4.20   4.23   2.63    334\n",
       "4   0.31     Good     J     SI2    63.3   58.0    4.34   4.35   2.75    335"
      ]
     },
     "execution_count": 8,
     "metadata": {},
     "output_type": "execute_result"
    }
   ],
   "source": [
    "# Concating Target column at the end of the columns\n",
    "df = pd.concat([df, df_target], axis = 1)\n",
    "df.head()"
   ]
  },
  {
   "cell_type": "code",
   "execution_count": 9,
   "id": "7889f98c",
   "metadata": {},
   "outputs": [
    {
     "data": {
      "text/plain": [
       "(53940, 10)"
      ]
     },
     "execution_count": 9,
     "metadata": {},
     "output_type": "execute_result"
    }
   ],
   "source": [
    "# Shape of data\n",
    "df.shape"
   ]
  },
  {
   "cell_type": "markdown",
   "id": "91ddae3d",
   "metadata": {},
   "source": [
    "### EDA"
   ]
  },
  {
   "cell_type": "code",
   "execution_count": 10,
   "id": "325c2753",
   "metadata": {},
   "outputs": [
    {
     "data": {
      "text/html": [
       "<div>\n",
       "<style scoped>\n",
       "    .dataframe tbody tr th:only-of-type {\n",
       "        vertical-align: middle;\n",
       "    }\n",
       "\n",
       "    .dataframe tbody tr th {\n",
       "        vertical-align: top;\n",
       "    }\n",
       "\n",
       "    .dataframe thead th {\n",
       "        text-align: right;\n",
       "    }\n",
       "</style>\n",
       "<table border=\"1\" class=\"dataframe\">\n",
       "  <thead>\n",
       "    <tr style=\"text-align: right;\">\n",
       "      <th></th>\n",
       "      <th>carat</th>\n",
       "      <th>depth%</th>\n",
       "      <th>table</th>\n",
       "      <th>length</th>\n",
       "      <th>width</th>\n",
       "      <th>depth</th>\n",
       "      <th>price</th>\n",
       "    </tr>\n",
       "  </thead>\n",
       "  <tbody>\n",
       "    <tr>\n",
       "      <th>count</th>\n",
       "      <td>53940.000000</td>\n",
       "      <td>53940.000000</td>\n",
       "      <td>53940.000000</td>\n",
       "      <td>53940.000000</td>\n",
       "      <td>53940.000000</td>\n",
       "      <td>53940.000000</td>\n",
       "      <td>53940.000000</td>\n",
       "    </tr>\n",
       "    <tr>\n",
       "      <th>mean</th>\n",
       "      <td>0.797940</td>\n",
       "      <td>61.749405</td>\n",
       "      <td>57.457184</td>\n",
       "      <td>5.731157</td>\n",
       "      <td>5.734526</td>\n",
       "      <td>3.538734</td>\n",
       "      <td>3932.799722</td>\n",
       "    </tr>\n",
       "    <tr>\n",
       "      <th>std</th>\n",
       "      <td>0.474011</td>\n",
       "      <td>1.432621</td>\n",
       "      <td>2.234491</td>\n",
       "      <td>1.121761</td>\n",
       "      <td>1.142135</td>\n",
       "      <td>0.705699</td>\n",
       "      <td>3989.439738</td>\n",
       "    </tr>\n",
       "    <tr>\n",
       "      <th>min</th>\n",
       "      <td>0.200000</td>\n",
       "      <td>43.000000</td>\n",
       "      <td>43.000000</td>\n",
       "      <td>0.000000</td>\n",
       "      <td>0.000000</td>\n",
       "      <td>0.000000</td>\n",
       "      <td>326.000000</td>\n",
       "    </tr>\n",
       "    <tr>\n",
       "      <th>25%</th>\n",
       "      <td>0.400000</td>\n",
       "      <td>61.000000</td>\n",
       "      <td>56.000000</td>\n",
       "      <td>4.710000</td>\n",
       "      <td>4.720000</td>\n",
       "      <td>2.910000</td>\n",
       "      <td>950.000000</td>\n",
       "    </tr>\n",
       "    <tr>\n",
       "      <th>50%</th>\n",
       "      <td>0.700000</td>\n",
       "      <td>61.800000</td>\n",
       "      <td>57.000000</td>\n",
       "      <td>5.700000</td>\n",
       "      <td>5.710000</td>\n",
       "      <td>3.530000</td>\n",
       "      <td>2401.000000</td>\n",
       "    </tr>\n",
       "    <tr>\n",
       "      <th>75%</th>\n",
       "      <td>1.040000</td>\n",
       "      <td>62.500000</td>\n",
       "      <td>59.000000</td>\n",
       "      <td>6.540000</td>\n",
       "      <td>6.540000</td>\n",
       "      <td>4.040000</td>\n",
       "      <td>5324.250000</td>\n",
       "    </tr>\n",
       "    <tr>\n",
       "      <th>max</th>\n",
       "      <td>5.010000</td>\n",
       "      <td>79.000000</td>\n",
       "      <td>95.000000</td>\n",
       "      <td>10.740000</td>\n",
       "      <td>58.900000</td>\n",
       "      <td>31.800000</td>\n",
       "      <td>18823.000000</td>\n",
       "    </tr>\n",
       "  </tbody>\n",
       "</table>\n",
       "</div>"
      ],
      "text/plain": [
       "              carat        depth%         table        length         width  \\\n",
       "count  53940.000000  53940.000000  53940.000000  53940.000000  53940.000000   \n",
       "mean       0.797940     61.749405     57.457184      5.731157      5.734526   \n",
       "std        0.474011      1.432621      2.234491      1.121761      1.142135   \n",
       "min        0.200000     43.000000     43.000000      0.000000      0.000000   \n",
       "25%        0.400000     61.000000     56.000000      4.710000      4.720000   \n",
       "50%        0.700000     61.800000     57.000000      5.700000      5.710000   \n",
       "75%        1.040000     62.500000     59.000000      6.540000      6.540000   \n",
       "max        5.010000     79.000000     95.000000     10.740000     58.900000   \n",
       "\n",
       "              depth         price  \n",
       "count  53940.000000  53940.000000  \n",
       "mean       3.538734   3932.799722  \n",
       "std        0.705699   3989.439738  \n",
       "min        0.000000    326.000000  \n",
       "25%        2.910000    950.000000  \n",
       "50%        3.530000   2401.000000  \n",
       "75%        4.040000   5324.250000  \n",
       "max       31.800000  18823.000000  "
      ]
     },
     "execution_count": 10,
     "metadata": {},
     "output_type": "execute_result"
    }
   ],
   "source": [
    "# Description of data\n",
    "df.describe()"
   ]
  },
  {
   "cell_type": "code",
   "execution_count": 11,
   "id": "f367b3bc",
   "metadata": {},
   "outputs": [
    {
     "data": {
      "text/html": [
       "<div>\n",
       "<style scoped>\n",
       "    .dataframe tbody tr th:only-of-type {\n",
       "        vertical-align: middle;\n",
       "    }\n",
       "\n",
       "    .dataframe tbody tr th {\n",
       "        vertical-align: top;\n",
       "    }\n",
       "\n",
       "    .dataframe thead th {\n",
       "        text-align: right;\n",
       "    }\n",
       "</style>\n",
       "<table border=\"1\" class=\"dataframe\">\n",
       "  <thead>\n",
       "    <tr style=\"text-align: right;\">\n",
       "      <th></th>\n",
       "      <th>length</th>\n",
       "      <th>width</th>\n",
       "      <th>depth</th>\n",
       "    </tr>\n",
       "  </thead>\n",
       "  <tbody>\n",
       "    <tr>\n",
       "      <th>2207</th>\n",
       "      <td>6.55</td>\n",
       "      <td>6.48</td>\n",
       "      <td>0.0</td>\n",
       "    </tr>\n",
       "    <tr>\n",
       "      <th>2314</th>\n",
       "      <td>6.66</td>\n",
       "      <td>6.60</td>\n",
       "      <td>0.0</td>\n",
       "    </tr>\n",
       "    <tr>\n",
       "      <th>4791</th>\n",
       "      <td>6.50</td>\n",
       "      <td>6.47</td>\n",
       "      <td>0.0</td>\n",
       "    </tr>\n",
       "    <tr>\n",
       "      <th>5471</th>\n",
       "      <td>6.50</td>\n",
       "      <td>6.47</td>\n",
       "      <td>0.0</td>\n",
       "    </tr>\n",
       "    <tr>\n",
       "      <th>10167</th>\n",
       "      <td>7.15</td>\n",
       "      <td>7.04</td>\n",
       "      <td>0.0</td>\n",
       "    </tr>\n",
       "  </tbody>\n",
       "</table>\n",
       "</div>"
      ],
      "text/plain": [
       "       length  width  depth\n",
       "2207     6.55   6.48    0.0\n",
       "2314     6.66   6.60    0.0\n",
       "4791     6.50   6.47    0.0\n",
       "5471     6.50   6.47    0.0\n",
       "10167    7.15   7.04    0.0"
      ]
     },
     "execution_count": 11,
     "metadata": {},
     "output_type": "execute_result"
    }
   ],
   "source": [
    "# There are missing values assigned as 0 in columns\n",
    "df[['length','width','depth']][(df['length']==0) | (df['width']==0) | (df['depth']==0)].head()"
   ]
  },
  {
   "cell_type": "code",
   "execution_count": 12,
   "id": "ba99d53f",
   "metadata": {},
   "outputs": [],
   "source": [
    "# Replacing 0 (missing values) with Null values (np.NaN).\n",
    "df[['length','width','depth']] = df[['length','width','depth']].replace(0, np.NaN)"
   ]
  },
  {
   "cell_type": "code",
   "execution_count": 13,
   "id": "b8d92b3b",
   "metadata": {},
   "outputs": [
    {
     "data": {
      "text/plain": [
       "carat       0\n",
       "cut         0\n",
       "color       0\n",
       "clarity     0\n",
       "depth%      0\n",
       "table       0\n",
       "length      8\n",
       "width       7\n",
       "depth      20\n",
       "price       0\n",
       "dtype: int64"
      ]
     },
     "execution_count": 13,
     "metadata": {},
     "output_type": "execute_result"
    }
   ],
   "source": [
    "# Checking Null Values\n",
    "df.isnull().sum()"
   ]
  },
  {
   "cell_type": "code",
   "execution_count": 14,
   "id": "1de8e7a1",
   "metadata": {},
   "outputs": [],
   "source": [
    "# Dropping Null Values\n",
    "df.dropna(inplace = True)"
   ]
  },
  {
   "cell_type": "code",
   "execution_count": 15,
   "id": "d543f4f5",
   "metadata": {},
   "outputs": [
    {
     "data": {
      "text/plain": [
       "carat      0\n",
       "cut        0\n",
       "color      0\n",
       "clarity    0\n",
       "depth%     0\n",
       "table      0\n",
       "length     0\n",
       "width      0\n",
       "depth      0\n",
       "price      0\n",
       "dtype: int64"
      ]
     },
     "execution_count": 15,
     "metadata": {},
     "output_type": "execute_result"
    }
   ],
   "source": [
    "# Rechecking Null Values\n",
    "df.isnull().sum()"
   ]
  },
  {
   "cell_type": "code",
   "execution_count": 16,
   "id": "cb2e457f",
   "metadata": {
    "scrolled": true
   },
   "outputs": [
    {
     "name": "stdout",
     "output_type": "stream",
     "text": [
      "<class 'pandas.core.frame.DataFrame'>\n",
      "Int64Index: 53920 entries, 0 to 53939\n",
      "Data columns (total 10 columns):\n",
      " #   Column   Non-Null Count  Dtype  \n",
      "---  ------   --------------  -----  \n",
      " 0   carat    53920 non-null  float64\n",
      " 1   cut      53920 non-null  object \n",
      " 2   color    53920 non-null  object \n",
      " 3   clarity  53920 non-null  object \n",
      " 4   depth%   53920 non-null  float64\n",
      " 5   table    53920 non-null  float64\n",
      " 6   length   53920 non-null  float64\n",
      " 7   width    53920 non-null  float64\n",
      " 8   depth    53920 non-null  float64\n",
      " 9   price    53920 non-null  int64  \n",
      "dtypes: float64(6), int64(1), object(3)\n",
      "memory usage: 4.5+ MB\n"
     ]
    }
   ],
   "source": [
    "# Data Information\n",
    "df.info()"
   ]
  },
  {
   "cell_type": "code",
   "execution_count": 17,
   "id": "96745165",
   "metadata": {},
   "outputs": [
    {
     "data": {
      "text/plain": [
       "(53920, 10)"
      ]
     },
     "execution_count": 17,
     "metadata": {},
     "output_type": "execute_result"
    }
   ],
   "source": [
    "# Shape of data\n",
    "df.shape"
   ]
  },
  {
   "cell_type": "markdown",
   "id": "bb4c69cb",
   "metadata": {},
   "source": [
    "**Observation:** There are no Null Values in our DataFrame."
   ]
  },
  {
   "cell_type": "markdown",
   "id": "29070c1b",
   "metadata": {},
   "source": [
    "### Univariate Analysis on Continous Variables:"
   ]
  },
  {
   "cell_type": "code",
   "execution_count": 18,
   "id": "bdc428f8",
   "metadata": {},
   "outputs": [
    {
     "data": {
      "text/plain": [
       "<AxesSubplot:>"
      ]
     },
     "execution_count": 18,
     "metadata": {},
     "output_type": "execute_result"
    },
    {
     "data": {
      "image/png": "[encoded data removed]",
      "text/plain": [
       "<Figure size 640x480 with 1 Axes>"
      ]
     },
     "metadata": {},
     "output_type": "display_data"
    }
   ],
   "source": [
    "# Carat Column\n",
    "df['carat'].plot.box()"
   ]
  },
  {
   "cell_type": "code",
   "execution_count": 19,
   "id": "09061fc4",
   "metadata": {},
   "outputs": [
    {
     "data": {
      "text/plain": [
       "<AxesSubplot:>"
      ]
     },
     "execution_count": 19,
     "metadata": {},
     "output_type": "execute_result"
    },
    {
     "data": {
      "image/png": "[encoded data removed]",
      "text/plain": [
       "<Figure size 640x480 with 1 Axes>"
      ]
     },
     "metadata": {},
     "output_type": "display_data"
    }
   ],
   "source": [
    "# Depth% Column\n",
    "df['depth%'].plot.box()"
   ]
  },
  {
   "cell_type": "code",
   "execution_count": 20,
   "id": "851d2476",
   "metadata": {},
   "outputs": [
    {
     "data": {
      "text/plain": [
       "<AxesSubplot:>"
      ]
     },
     "execution_count": 20,
     "metadata": {},
     "output_type": "execute_result"
    },
    {
     "data": {
      "image/png": "[encoded data removed]",
      "text/plain": [
       "<Figure size 640x480 with 1 Axes>"
      ]
     },
     "metadata": {},
     "output_type": "display_data"
    }
   ],
   "source": [
    "# Table Column\n",
    "df['table'].plot.box()"
   ]
  },
  {
   "cell_type": "code",
   "execution_count": 21,
   "id": "c82a54fb",
   "metadata": {},
   "outputs": [
    {
     "data": {
      "text/plain": [
       "<AxesSubplot:>"
      ]
     },
     "execution_count": 21,
     "metadata": {},
     "output_type": "execute_result"
    },
    {
     "data": {
      "image/png": "[encoded data removed]",
      "text/plain": [
       "<Figure size 640x480 with 1 Axes>"
      ]
     },
     "metadata": {},
     "output_type": "display_data"
    }
   ],
   "source": [
    "# Length Column\n",
    "df['length'].plot.box()"
   ]
  },
  {
   "cell_type": "code",
   "execution_count": 22,
   "id": "05be9d14",
   "metadata": {},
   "outputs": [
    {
     "data": {
      "text/plain": [
       "<AxesSubplot:>"
      ]
     },
     "execution_count": 22,
     "metadata": {},
     "output_type": "execute_result"
    },
    {
     "data": {
      "image/png": "[encoded data removed]",
      "text/plain": [
       "<Figure size 640x480 with 1 Axes>"
      ]
     },
     "metadata": {},
     "output_type": "display_data"
    }
   ],
   "source": [
    "# Width Column\n",
    "df['width'].plot.box()"
   ]
  },
  {
   "cell_type": "code",
   "execution_count": 23,
   "id": "810bad47",
   "metadata": {},
   "outputs": [
    {
     "data": {
      "text/plain": [
       "<AxesSubplot:>"
      ]
     },
     "execution_count": 23,
     "metadata": {},
     "output_type": "execute_result"
    },
    {
     "data": {
      "image/png": "[encoded data removed]",
      "text/plain": [
       "<Figure size 640x480 with 1 Axes>"
      ]
     },
     "metadata": {},
     "output_type": "display_data"
    }
   ],
   "source": [
    "# Depth Column\n",
    "df['depth'].plot.box()"
   ]
  },
  {
   "cell_type": "code",
   "execution_count": 24,
   "id": "83a148ec",
   "metadata": {},
   "outputs": [
    {
     "data": {
      "text/plain": [
       "<AxesSubplot:>"
      ]
     },
     "execution_count": 24,
     "metadata": {},
     "output_type": "execute_result"
    },
    {
     "data": {
      "image/png": "[encoded data removed]",
      "text/plain": [
       "<Figure size 640x480 with 1 Axes>"
      ]
     },
     "metadata": {},
     "output_type": "display_data"
    }
   ],
   "source": [
    "# Price Column\n",
    "df['price'].plot.box()"
   ]
  },
  {
   "cell_type": "markdown",
   "id": "a933829e",
   "metadata": {},
   "source": [
    "### Univariate Analysis on Categorical Variable:"
   ]
  },
  {
   "cell_type": "code",
   "execution_count": 25,
   "id": "ae56c786",
   "metadata": {},
   "outputs": [
    {
     "data": {
      "text/plain": [
       "<AxesSubplot:>"
      ]
     },
     "execution_count": 25,
     "metadata": {},
     "output_type": "execute_result"
    },
    {
     "data": {
      "image/png": "[encoded data removed]",
      "text/plain": [
       "<Figure size 640x480 with 1 Axes>"
      ]
     },
     "metadata": {},
     "output_type": "display_data"
    }
   ],
   "source": [
    "# BARPLOT for CUT\n",
    "df['cut'].value_counts().plot.bar()"
   ]
  },
  {
   "cell_type": "markdown",
   "id": "14269b40",
   "metadata": {},
   "source": [
    "cut : quality of the cut (Fair, Good, Very Good, Premium, Ideal)"
   ]
  },
  {
   "cell_type": "code",
   "execution_count": 26,
   "id": "f1949754",
   "metadata": {},
   "outputs": [
    {
     "data": {
      "text/plain": [
       "<AxesSubplot:>"
      ]
     },
     "execution_count": 26,
     "metadata": {},
     "output_type": "execute_result"
    },
    {
     "data": {
      "image/png": "[encoded data removed]",
      "text/plain": [
       "<Figure size 640x480 with 1 Axes>"
      ]
     },
     "metadata": {},
     "output_type": "display_data"
    }
   ],
   "source": [
    "# BARPLOT for COLOR\n",
    "df['color'].value_counts().plot.bar()"
   ]
  },
  {
   "cell_type": "markdown",
   "id": "69f21cd0",
   "metadata": {},
   "source": [
    "color : diamond colour, from J (worst) to D (best)"
   ]
  },
  {
   "cell_type": "code",
   "execution_count": 27,
   "id": "5490250b",
   "metadata": {},
   "outputs": [
    {
     "data": {
      "text/plain": [
       "<AxesSubplot:>"
      ]
     },
     "execution_count": 27,
     "metadata": {},
     "output_type": "execute_result"
    },
    {
     "data": {
      "image/png": "[encoded data removed]",
      "text/plain": [
       "<Figure size 640x480 with 1 Axes>"
      ]
     },
     "metadata": {},
     "output_type": "display_data"
    }
   ],
   "source": [
    "# BARPLOT for CLARITY\n",
    "df['clarity'].value_counts().plot.bar()"
   ]
  },
  {
   "cell_type": "markdown",
   "id": "e0216200",
   "metadata": {},
   "source": [
    "clarity : a measurement of how clear the diamond is (I1 (worst), SI2, SI1, VS2, VS1, VVS2, VVS1, IF (best))"
   ]
  },
  {
   "cell_type": "markdown",
   "id": "31cb6ba7",
   "metadata": {},
   "source": [
    "### Bivariate Analysis on Numerical- Numerical Variables:"
   ]
  },
  {
   "cell_type": "code",
   "execution_count": 28,
   "id": "bd922e8d",
   "metadata": {},
   "outputs": [
    {
     "data": {
      "text/plain": [
       "<seaborn.axisgrid.PairGrid at 0x2acae34f790>"
      ]
     },
     "execution_count": 28,
     "metadata": {},
     "output_type": "execute_result"
    },
    {
     "data": {
      "image/png": "[encoded data removed]",
      "text/plain": [
       "<Figure size 900x300 with 3 Axes>"
      ]
     },
     "metadata": {},
     "output_type": "display_data"
    }
   ],
   "source": [
    "# Pairplot\n",
    "sns.pairplot(df , height=3, aspect =1, x_vars = ['length','width','depth'] , y_vars =  ['price'] , kind = 'reg')"
   ]
  },
  {
   "cell_type": "code",
   "execution_count": 29,
   "id": "ab9c8b9a",
   "metadata": {},
   "outputs": [
    {
     "data": {
      "text/plain": [
       "<seaborn.axisgrid.PairGrid at 0x2acaea321f0>"
      ]
     },
     "execution_count": 29,
     "metadata": {},
     "output_type": "execute_result"
    },
    {
     "data": {
      "image/png": "[encoded data removed]",
      "text/plain": [
       "<Figure size 900x300 with 3 Axes>"
      ]
     },
     "metadata": {},
     "output_type": "display_data"
    }
   ],
   "source": [
    "# Pairplot\n",
    "sns.pairplot(df , height=3, aspect =1, x_vars = ['carat','depth%', 'table'] , y_vars =  ['price'] , kind = 'reg')"
   ]
  },
  {
   "cell_type": "code",
   "execution_count": 30,
   "id": "b251f632",
   "metadata": {},
   "outputs": [
    {
     "data": {
      "image/png": "[encoded data removed]",
      "text/plain": [
       "<Figure size 1500x1000 with 2 Axes>"
      ]
     },
     "metadata": {},
     "output_type": "display_data"
    }
   ],
   "source": [
    "# Heatmap\n",
    "corr = df.corr()\n",
    "fig, ax = plt.subplots(figsize=(15,10))\n",
    "ax = sns.heatmap(corr , xticklabels=corr.columns , yticklabels=corr.columns , annot=True)"
   ]
  },
  {
   "cell_type": "markdown",
   "id": "d1b9abc2",
   "metadata": {},
   "source": [
    "#### There is a high correlation between carat, length, width, depth and price."
   ]
  },
  {
   "cell_type": "markdown",
   "id": "b425c7f6",
   "metadata": {},
   "source": [
    "### Bivariate Analysis on Categorical - Continous Variables:"
   ]
  },
  {
   "cell_type": "code",
   "execution_count": 31,
   "id": "b4e3135a",
   "metadata": {},
   "outputs": [
    {
     "data": {
      "text/plain": [
       "<AxesSubplot:xlabel='cut'>"
      ]
     },
     "execution_count": 31,
     "metadata": {},
     "output_type": "execute_result"
    },
    {
     "data": {
      "image/png": "[encoded data removed]",
      "text/plain": [
       "<Figure size 500x500 with 1 Axes>"
      ]
     },
     "metadata": {},
     "output_type": "display_data"
    }
   ],
   "source": [
    "# BARPLOT for Cut and Price\n",
    "fig, ax = plt.subplots(figsize=(5,5))\n",
    "df.groupby('cut')['price'].mean().sort_values(ascending = False).plot.bar()"
   ]
  },
  {
   "cell_type": "markdown",
   "id": "52d88ab6",
   "metadata": {},
   "source": [
    "cut : quality of the cut (Fair, Good, Very Good, Premium, Ideal)"
   ]
  },
  {
   "cell_type": "code",
   "execution_count": 32,
   "id": "7e616ca3",
   "metadata": {},
   "outputs": [
    {
     "data": {
      "text/plain": [
       "<AxesSubplot:xlabel='color'>"
      ]
     },
     "execution_count": 32,
     "metadata": {},
     "output_type": "execute_result"
    },
    {
     "data": {
      "image/png": "[encoded data removed]",
      "text/plain": [
       "<Figure size 500x500 with 1 Axes>"
      ]
     },
     "metadata": {},
     "output_type": "display_data"
    }
   ],
   "source": [
    "# BARPLOT for Color and Price\n",
    "fig, ax = plt.subplots(figsize=(5,5))\n",
    "df.groupby('color')['price'].mean().sort_values(ascending = False).plot.bar()"
   ]
  },
  {
   "cell_type": "markdown",
   "id": "38b833a2",
   "metadata": {},
   "source": [
    "color : diamond colour, from J (worst) to D (best)"
   ]
  },
  {
   "cell_type": "code",
   "execution_count": 33,
   "id": "ac184b16",
   "metadata": {},
   "outputs": [
    {
     "data": {
      "text/plain": [
       "<AxesSubplot:xlabel='clarity'>"
      ]
     },
     "execution_count": 33,
     "metadata": {},
     "output_type": "execute_result"
    },
    {
     "data": {
      "image/png": "[encoded data removed]",
      "text/plain": [
       "<Figure size 500x500 with 1 Axes>"
      ]
     },
     "metadata": {},
     "output_type": "display_data"
    }
   ],
   "source": [
    "# BARPLOT for Clarity and Price\n",
    "fig, ax = plt.subplots(figsize=(5,5))\n",
    "df.groupby('clarity')['price'].mean().sort_values(ascending = False).plot.bar()"
   ]
  },
  {
   "cell_type": "markdown",
   "id": "5f1b4da4",
   "metadata": {},
   "source": [
    "clarity : a measurement of how clear the diamond is (I1 (worst), SI2, SI1, VS2, VS1, VVS2, VVS1, IF (best))"
   ]
  },
  {
   "cell_type": "markdown",
   "id": "01d10f39",
   "metadata": {},
   "source": [
    "#### Splitting the Target and Independent Columns"
   ]
  },
  {
   "cell_type": "code",
   "execution_count": 34,
   "id": "85d7e195",
   "metadata": {},
   "outputs": [],
   "source": [
    "X = df[['carat', 'cut', 'color', 'clarity', 'length', 'width', 'depth']]  #.drop('price', axis = 1)"
   ]
  },
  {
   "cell_type": "code",
   "execution_count": 35,
   "id": "85b23345",
   "metadata": {},
   "outputs": [],
   "source": [
    "y = df[['price']]"
   ]
  },
  {
   "cell_type": "code",
   "execution_count": 36,
   "id": "dfa1b376",
   "metadata": {},
   "outputs": [
    {
     "data": {
      "text/html": [
       "<div>\n",
       "<style scoped>\n",
       "    .dataframe tbody tr th:only-of-type {\n",
       "        vertical-align: middle;\n",
       "    }\n",
       "\n",
       "    .dataframe tbody tr th {\n",
       "        vertical-align: top;\n",
       "    }\n",
       "\n",
       "    .dataframe thead th {\n",
       "        text-align: right;\n",
       "    }\n",
       "</style>\n",
       "<table border=\"1\" class=\"dataframe\">\n",
       "  <thead>\n",
       "    <tr style=\"text-align: right;\">\n",
       "      <th></th>\n",
       "      <th>carat</th>\n",
       "      <th>cut</th>\n",
       "      <th>color</th>\n",
       "      <th>clarity</th>\n",
       "      <th>length</th>\n",
       "      <th>width</th>\n",
       "      <th>depth</th>\n",
       "    </tr>\n",
       "  </thead>\n",
       "  <tbody>\n",
       "    <tr>\n",
       "      <th>0</th>\n",
       "      <td>0.23</td>\n",
       "      <td>Ideal</td>\n",
       "      <td>E</td>\n",
       "      <td>SI2</td>\n",
       "      <td>3.95</td>\n",
       "      <td>3.98</td>\n",
       "      <td>2.43</td>\n",
       "    </tr>\n",
       "    <tr>\n",
       "      <th>1</th>\n",
       "      <td>0.21</td>\n",
       "      <td>Premium</td>\n",
       "      <td>E</td>\n",
       "      <td>SI1</td>\n",
       "      <td>3.89</td>\n",
       "      <td>3.84</td>\n",
       "      <td>2.31</td>\n",
       "    </tr>\n",
       "    <tr>\n",
       "      <th>2</th>\n",
       "      <td>0.23</td>\n",
       "      <td>Good</td>\n",
       "      <td>E</td>\n",
       "      <td>VS1</td>\n",
       "      <td>4.05</td>\n",
       "      <td>4.07</td>\n",
       "      <td>2.31</td>\n",
       "    </tr>\n",
       "    <tr>\n",
       "      <th>3</th>\n",
       "      <td>0.29</td>\n",
       "      <td>Premium</td>\n",
       "      <td>I</td>\n",
       "      <td>VS2</td>\n",
       "      <td>4.20</td>\n",
       "      <td>4.23</td>\n",
       "      <td>2.63</td>\n",
       "    </tr>\n",
       "    <tr>\n",
       "      <th>4</th>\n",
       "      <td>0.31</td>\n",
       "      <td>Good</td>\n",
       "      <td>J</td>\n",
       "      <td>SI2</td>\n",
       "      <td>4.34</td>\n",
       "      <td>4.35</td>\n",
       "      <td>2.75</td>\n",
       "    </tr>\n",
       "  </tbody>\n",
       "</table>\n",
       "</div>"
      ],
      "text/plain": [
       "   carat      cut color clarity  length  width  depth\n",
       "0   0.23    Ideal     E     SI2    3.95   3.98   2.43\n",
       "1   0.21  Premium     E     SI1    3.89   3.84   2.31\n",
       "2   0.23     Good     E     VS1    4.05   4.07   2.31\n",
       "3   0.29  Premium     I     VS2    4.20   4.23   2.63\n",
       "4   0.31     Good     J     SI2    4.34   4.35   2.75"
      ]
     },
     "execution_count": 36,
     "metadata": {},
     "output_type": "execute_result"
    }
   ],
   "source": [
    "X.head()"
   ]
  },
  {
   "cell_type": "code",
   "execution_count": 37,
   "id": "99d16210",
   "metadata": {},
   "outputs": [
    {
     "data": {
      "text/html": [
       "<div>\n",
       "<style scoped>\n",
       "    .dataframe tbody tr th:only-of-type {\n",
       "        vertical-align: middle;\n",
       "    }\n",
       "\n",
       "    .dataframe tbody tr th {\n",
       "        vertical-align: top;\n",
       "    }\n",
       "\n",
       "    .dataframe thead th {\n",
       "        text-align: right;\n",
       "    }\n",
       "</style>\n",
       "<table border=\"1\" class=\"dataframe\">\n",
       "  <thead>\n",
       "    <tr style=\"text-align: right;\">\n",
       "      <th></th>\n",
       "      <th>price</th>\n",
       "    </tr>\n",
       "  </thead>\n",
       "  <tbody>\n",
       "    <tr>\n",
       "      <th>0</th>\n",
       "      <td>326</td>\n",
       "    </tr>\n",
       "    <tr>\n",
       "      <th>1</th>\n",
       "      <td>326</td>\n",
       "    </tr>\n",
       "    <tr>\n",
       "      <th>2</th>\n",
       "      <td>327</td>\n",
       "    </tr>\n",
       "    <tr>\n",
       "      <th>3</th>\n",
       "      <td>334</td>\n",
       "    </tr>\n",
       "    <tr>\n",
       "      <th>4</th>\n",
       "      <td>335</td>\n",
       "    </tr>\n",
       "  </tbody>\n",
       "</table>\n",
       "</div>"
      ],
      "text/plain": [
       "   price\n",
       "0    326\n",
       "1    326\n",
       "2    327\n",
       "3    334\n",
       "4    335"
      ]
     },
     "execution_count": 37,
     "metadata": {},
     "output_type": "execute_result"
    }
   ],
   "source": [
    "y.head()"
   ]
  },
  {
   "cell_type": "markdown",
   "id": "881c1592",
   "metadata": {},
   "source": [
    "### Splitting Data into Train and Test"
   ]
  },
  {
   "cell_type": "code",
   "execution_count": 38,
   "id": "2034f930",
   "metadata": {},
   "outputs": [
    {
     "name": "stdout",
     "output_type": "stream",
     "text": [
      "Train Set:  (40440, 7) (40440, 1)\n",
      "Test Set:  (13480, 7) (13480, 1)\n"
     ]
    }
   ],
   "source": [
    "from sklearn.model_selection import train_test_split\n",
    "X_train, X_test, y_train, y_test = train_test_split(X, y, test_size = 0.25, random_state = 41)\n",
    "print('Train Set: ', X_train.shape, y_train.shape)\n",
    "print('Test Set: ', X_test.shape, y_test.shape)"
   ]
  },
  {
   "cell_type": "code",
   "execution_count": 39,
   "id": "5ff5a4c2",
   "metadata": {},
   "outputs": [
    {
     "data": {
      "text/html": [
       "<div>\n",
       "<style scoped>\n",
       "    .dataframe tbody tr th:only-of-type {\n",
       "        vertical-align: middle;\n",
       "    }\n",
       "\n",
       "    .dataframe tbody tr th {\n",
       "        vertical-align: top;\n",
       "    }\n",
       "\n",
       "    .dataframe thead th {\n",
       "        text-align: right;\n",
       "    }\n",
       "</style>\n",
       "<table border=\"1\" class=\"dataframe\">\n",
       "  <thead>\n",
       "    <tr style=\"text-align: right;\">\n",
       "      <th></th>\n",
       "      <th>carat</th>\n",
       "      <th>cut</th>\n",
       "      <th>color</th>\n",
       "      <th>clarity</th>\n",
       "      <th>length</th>\n",
       "      <th>width</th>\n",
       "      <th>depth</th>\n",
       "    </tr>\n",
       "  </thead>\n",
       "  <tbody>\n",
       "    <tr>\n",
       "      <th>43315</th>\n",
       "      <td>0.38</td>\n",
       "      <td>Ideal</td>\n",
       "      <td>E</td>\n",
       "      <td>IF</td>\n",
       "      <td>4.68</td>\n",
       "      <td>4.74</td>\n",
       "      <td>2.89</td>\n",
       "    </tr>\n",
       "    <tr>\n",
       "      <th>26723</th>\n",
       "      <td>0.32</td>\n",
       "      <td>Good</td>\n",
       "      <td>F</td>\n",
       "      <td>VS2</td>\n",
       "      <td>4.32</td>\n",
       "      <td>4.36</td>\n",
       "      <td>2.75</td>\n",
       "    </tr>\n",
       "    <tr>\n",
       "      <th>26574</th>\n",
       "      <td>1.74</td>\n",
       "      <td>Very Good</td>\n",
       "      <td>D</td>\n",
       "      <td>SI1</td>\n",
       "      <td>7.74</td>\n",
       "      <td>7.79</td>\n",
       "      <td>4.81</td>\n",
       "    </tr>\n",
       "    <tr>\n",
       "      <th>52024</th>\n",
       "      <td>0.53</td>\n",
       "      <td>Ideal</td>\n",
       "      <td>F</td>\n",
       "      <td>IF</td>\n",
       "      <td>5.20</td>\n",
       "      <td>5.19</td>\n",
       "      <td>3.24</td>\n",
       "    </tr>\n",
       "    <tr>\n",
       "      <th>47932</th>\n",
       "      <td>0.56</td>\n",
       "      <td>Premium</td>\n",
       "      <td>E</td>\n",
       "      <td>VS2</td>\n",
       "      <td>5.31</td>\n",
       "      <td>5.28</td>\n",
       "      <td>3.25</td>\n",
       "    </tr>\n",
       "  </tbody>\n",
       "</table>\n",
       "</div>"
      ],
      "text/plain": [
       "       carat        cut color clarity  length  width  depth\n",
       "43315   0.38      Ideal     E      IF    4.68   4.74   2.89\n",
       "26723   0.32       Good     F     VS2    4.32   4.36   2.75\n",
       "26574   1.74  Very Good     D     SI1    7.74   7.79   4.81\n",
       "52024   0.53      Ideal     F      IF    5.20   5.19   3.24\n",
       "47932   0.56    Premium     E     VS2    5.31   5.28   3.25"
      ]
     },
     "execution_count": 39,
     "metadata": {},
     "output_type": "execute_result"
    }
   ],
   "source": [
    "X_train.head()"
   ]
  },
  {
   "cell_type": "code",
   "execution_count": 40,
   "id": "c4dd89a5",
   "metadata": {},
   "outputs": [
    {
     "data": {
      "text/html": [
       "<div>\n",
       "<style scoped>\n",
       "    .dataframe tbody tr th:only-of-type {\n",
       "        vertical-align: middle;\n",
       "    }\n",
       "\n",
       "    .dataframe tbody tr th {\n",
       "        vertical-align: top;\n",
       "    }\n",
       "\n",
       "    .dataframe thead th {\n",
       "        text-align: right;\n",
       "    }\n",
       "</style>\n",
       "<table border=\"1\" class=\"dataframe\">\n",
       "  <thead>\n",
       "    <tr style=\"text-align: right;\">\n",
       "      <th></th>\n",
       "      <th>carat</th>\n",
       "      <th>cut</th>\n",
       "      <th>color</th>\n",
       "      <th>clarity</th>\n",
       "      <th>length</th>\n",
       "      <th>width</th>\n",
       "      <th>depth</th>\n",
       "    </tr>\n",
       "  </thead>\n",
       "  <tbody>\n",
       "    <tr>\n",
       "      <th>40846</th>\n",
       "      <td>0.46</td>\n",
       "      <td>Premium</td>\n",
       "      <td>E</td>\n",
       "      <td>VS2</td>\n",
       "      <td>5.10</td>\n",
       "      <td>5.05</td>\n",
       "      <td>2.97</td>\n",
       "    </tr>\n",
       "    <tr>\n",
       "      <th>51368</th>\n",
       "      <td>0.73</td>\n",
       "      <td>Premium</td>\n",
       "      <td>I</td>\n",
       "      <td>VS2</td>\n",
       "      <td>5.94</td>\n",
       "      <td>5.81</td>\n",
       "      <td>3.51</td>\n",
       "    </tr>\n",
       "    <tr>\n",
       "      <th>7306</th>\n",
       "      <td>0.91</td>\n",
       "      <td>Premium</td>\n",
       "      <td>F</td>\n",
       "      <td>SI1</td>\n",
       "      <td>6.24</td>\n",
       "      <td>6.20</td>\n",
       "      <td>3.86</td>\n",
       "    </tr>\n",
       "    <tr>\n",
       "      <th>26474</th>\n",
       "      <td>2.37</td>\n",
       "      <td>Ideal</td>\n",
       "      <td>J</td>\n",
       "      <td>VS2</td>\n",
       "      <td>8.52</td>\n",
       "      <td>8.58</td>\n",
       "      <td>5.32</td>\n",
       "    </tr>\n",
       "    <tr>\n",
       "      <th>17963</th>\n",
       "      <td>1.00</td>\n",
       "      <td>Very Good</td>\n",
       "      <td>G</td>\n",
       "      <td>VVS2</td>\n",
       "      <td>6.39</td>\n",
       "      <td>6.44</td>\n",
       "      <td>3.88</td>\n",
       "    </tr>\n",
       "  </tbody>\n",
       "</table>\n",
       "</div>"
      ],
      "text/plain": [
       "       carat        cut color clarity  length  width  depth\n",
       "40846   0.46    Premium     E     VS2    5.10   5.05   2.97\n",
       "51368   0.73    Premium     I     VS2    5.94   5.81   3.51\n",
       "7306    0.91    Premium     F     SI1    6.24   6.20   3.86\n",
       "26474   2.37      Ideal     J     VS2    8.52   8.58   5.32\n",
       "17963   1.00  Very Good     G    VVS2    6.39   6.44   3.88"
      ]
     },
     "execution_count": 40,
     "metadata": {},
     "output_type": "execute_result"
    }
   ],
   "source": [
    "X_test.head()"
   ]
  },
  {
   "cell_type": "markdown",
   "id": "3c61b679",
   "metadata": {},
   "source": [
    "### Label Encoding"
   ]
  },
  {
   "cell_type": "code",
   "execution_count": 41,
   "id": "7c26b138",
   "metadata": {},
   "outputs": [],
   "source": [
    "# Importing LabelEncoder Module\n",
    "from sklearn.preprocessing import LabelEncoder"
   ]
  },
  {
   "cell_type": "code",
   "execution_count": 42,
   "id": "65253845",
   "metadata": {},
   "outputs": [],
   "source": [
    "# label encoding the train set categorical columns\n",
    "le = LabelEncoder()\n",
    "X_train['cut']=le.fit_transform(X_train['cut'])\n",
    "X_train['color']=le.fit_transform(X_train['color'])\n",
    "X_train['clarity']=le.fit_transform(X_train['clarity'])"
   ]
  },
  {
   "cell_type": "code",
   "execution_count": 43,
   "id": "34c0a418",
   "metadata": {},
   "outputs": [],
   "source": [
    "# label encoding the test set categorical columns\n",
    "le= LabelEncoder()\n",
    "X_test['cut']=le.fit_transform(X_test['cut'])\n",
    "X_test['color']=le.fit_transform(X_test['color'])\n",
    "X_test['clarity']=le.fit_transform(X_test['clarity'])"
   ]
  },
  {
   "cell_type": "code",
   "execution_count": 44,
   "id": "d92229e6",
   "metadata": {},
   "outputs": [
    {
     "data": {
      "text/html": [
       "<div>\n",
       "<style scoped>\n",
       "    .dataframe tbody tr th:only-of-type {\n",
       "        vertical-align: middle;\n",
       "    }\n",
       "\n",
       "    .dataframe tbody tr th {\n",
       "        vertical-align: top;\n",
       "    }\n",
       "\n",
       "    .dataframe thead th {\n",
       "        text-align: right;\n",
       "    }\n",
       "</style>\n",
       "<table border=\"1\" class=\"dataframe\">\n",
       "  <thead>\n",
       "    <tr style=\"text-align: right;\">\n",
       "      <th></th>\n",
       "      <th>carat</th>\n",
       "      <th>cut</th>\n",
       "      <th>color</th>\n",
       "      <th>clarity</th>\n",
       "      <th>length</th>\n",
       "      <th>width</th>\n",
       "      <th>depth</th>\n",
       "    </tr>\n",
       "  </thead>\n",
       "  <tbody>\n",
       "    <tr>\n",
       "      <th>43315</th>\n",
       "      <td>0.38</td>\n",
       "      <td>2</td>\n",
       "      <td>1</td>\n",
       "      <td>1</td>\n",
       "      <td>4.68</td>\n",
       "      <td>4.74</td>\n",
       "      <td>2.89</td>\n",
       "    </tr>\n",
       "    <tr>\n",
       "      <th>26723</th>\n",
       "      <td>0.32</td>\n",
       "      <td>1</td>\n",
       "      <td>2</td>\n",
       "      <td>5</td>\n",
       "      <td>4.32</td>\n",
       "      <td>4.36</td>\n",
       "      <td>2.75</td>\n",
       "    </tr>\n",
       "    <tr>\n",
       "      <th>26574</th>\n",
       "      <td>1.74</td>\n",
       "      <td>4</td>\n",
       "      <td>0</td>\n",
       "      <td>2</td>\n",
       "      <td>7.74</td>\n",
       "      <td>7.79</td>\n",
       "      <td>4.81</td>\n",
       "    </tr>\n",
       "    <tr>\n",
       "      <th>52024</th>\n",
       "      <td>0.53</td>\n",
       "      <td>2</td>\n",
       "      <td>2</td>\n",
       "      <td>1</td>\n",
       "      <td>5.20</td>\n",
       "      <td>5.19</td>\n",
       "      <td>3.24</td>\n",
       "    </tr>\n",
       "    <tr>\n",
       "      <th>47932</th>\n",
       "      <td>0.56</td>\n",
       "      <td>3</td>\n",
       "      <td>1</td>\n",
       "      <td>5</td>\n",
       "      <td>5.31</td>\n",
       "      <td>5.28</td>\n",
       "      <td>3.25</td>\n",
       "    </tr>\n",
       "  </tbody>\n",
       "</table>\n",
       "</div>"
      ],
      "text/plain": [
       "       carat  cut  color  clarity  length  width  depth\n",
       "43315   0.38    2      1        1    4.68   4.74   2.89\n",
       "26723   0.32    1      2        5    4.32   4.36   2.75\n",
       "26574   1.74    4      0        2    7.74   7.79   4.81\n",
       "52024   0.53    2      2        1    5.20   5.19   3.24\n",
       "47932   0.56    3      1        5    5.31   5.28   3.25"
      ]
     },
     "execution_count": 44,
     "metadata": {},
     "output_type": "execute_result"
    }
   ],
   "source": [
    "X_train.head()"
   ]
  },
  {
   "cell_type": "code",
   "execution_count": 45,
   "id": "91d6b0e2",
   "metadata": {},
   "outputs": [
    {
     "data": {
      "text/html": [
       "<div>\n",
       "<style scoped>\n",
       "    .dataframe tbody tr th:only-of-type {\n",
       "        vertical-align: middle;\n",
       "    }\n",
       "\n",
       "    .dataframe tbody tr th {\n",
       "        vertical-align: top;\n",
       "    }\n",
       "\n",
       "    .dataframe thead th {\n",
       "        text-align: right;\n",
       "    }\n",
       "</style>\n",
       "<table border=\"1\" class=\"dataframe\">\n",
       "  <thead>\n",
       "    <tr style=\"text-align: right;\">\n",
       "      <th></th>\n",
       "      <th>carat</th>\n",
       "      <th>cut</th>\n",
       "      <th>color</th>\n",
       "      <th>clarity</th>\n",
       "      <th>length</th>\n",
       "      <th>width</th>\n",
       "      <th>depth</th>\n",
       "    </tr>\n",
       "  </thead>\n",
       "  <tbody>\n",
       "    <tr>\n",
       "      <th>40846</th>\n",
       "      <td>0.46</td>\n",
       "      <td>3</td>\n",
       "      <td>1</td>\n",
       "      <td>5</td>\n",
       "      <td>5.10</td>\n",
       "      <td>5.05</td>\n",
       "      <td>2.97</td>\n",
       "    </tr>\n",
       "    <tr>\n",
       "      <th>51368</th>\n",
       "      <td>0.73</td>\n",
       "      <td>3</td>\n",
       "      <td>5</td>\n",
       "      <td>5</td>\n",
       "      <td>5.94</td>\n",
       "      <td>5.81</td>\n",
       "      <td>3.51</td>\n",
       "    </tr>\n",
       "    <tr>\n",
       "      <th>7306</th>\n",
       "      <td>0.91</td>\n",
       "      <td>3</td>\n",
       "      <td>2</td>\n",
       "      <td>2</td>\n",
       "      <td>6.24</td>\n",
       "      <td>6.20</td>\n",
       "      <td>3.86</td>\n",
       "    </tr>\n",
       "    <tr>\n",
       "      <th>26474</th>\n",
       "      <td>2.37</td>\n",
       "      <td>2</td>\n",
       "      <td>6</td>\n",
       "      <td>5</td>\n",
       "      <td>8.52</td>\n",
       "      <td>8.58</td>\n",
       "      <td>5.32</td>\n",
       "    </tr>\n",
       "    <tr>\n",
       "      <th>17963</th>\n",
       "      <td>1.00</td>\n",
       "      <td>4</td>\n",
       "      <td>3</td>\n",
       "      <td>7</td>\n",
       "      <td>6.39</td>\n",
       "      <td>6.44</td>\n",
       "      <td>3.88</td>\n",
       "    </tr>\n",
       "  </tbody>\n",
       "</table>\n",
       "</div>"
      ],
      "text/plain": [
       "       carat  cut  color  clarity  length  width  depth\n",
       "40846   0.46    3      1        5    5.10   5.05   2.97\n",
       "51368   0.73    3      5        5    5.94   5.81   3.51\n",
       "7306    0.91    3      2        2    6.24   6.20   3.86\n",
       "26474   2.37    2      6        5    8.52   8.58   5.32\n",
       "17963   1.00    4      3        7    6.39   6.44   3.88"
      ]
     },
     "execution_count": 45,
     "metadata": {},
     "output_type": "execute_result"
    }
   ],
   "source": [
    "X_test.head()"
   ]
  },
  {
   "cell_type": "markdown",
   "id": "87e5c17f",
   "metadata": {},
   "source": [
    "### Standardization"
   ]
  },
  {
   "cell_type": "markdown",
   "id": "037c473f",
   "metadata": {},
   "source": [
    "#### Data Pre-processing on Training Data"
   ]
  },
  {
   "cell_type": "code",
   "execution_count": 46,
   "id": "54914aa3",
   "metadata": {},
   "outputs": [
    {
     "data": {
      "text/html": [
       "<div>\n",
       "<style scoped>\n",
       "    .dataframe tbody tr th:only-of-type {\n",
       "        vertical-align: middle;\n",
       "    }\n",
       "\n",
       "    .dataframe tbody tr th {\n",
       "        vertical-align: top;\n",
       "    }\n",
       "\n",
       "    .dataframe thead th {\n",
       "        text-align: right;\n",
       "    }\n",
       "</style>\n",
       "<table border=\"1\" class=\"dataframe\">\n",
       "  <thead>\n",
       "    <tr style=\"text-align: right;\">\n",
       "      <th></th>\n",
       "      <th>carat</th>\n",
       "      <th>cut</th>\n",
       "      <th>color</th>\n",
       "      <th>clarity</th>\n",
       "      <th>length</th>\n",
       "      <th>width</th>\n",
       "      <th>depth</th>\n",
       "    </tr>\n",
       "  </thead>\n",
       "  <tbody>\n",
       "    <tr>\n",
       "      <th>43315</th>\n",
       "      <td>-0.882002</td>\n",
       "      <td>-0.534139</td>\n",
       "      <td>-0.937298</td>\n",
       "      <td>-1.645256</td>\n",
       "      <td>-0.939806</td>\n",
       "      <td>-0.871135</td>\n",
       "      <td>-0.920850</td>\n",
       "    </tr>\n",
       "    <tr>\n",
       "      <th>26723</th>\n",
       "      <td>-1.008361</td>\n",
       "      <td>-1.508234</td>\n",
       "      <td>-0.350344</td>\n",
       "      <td>0.674563</td>\n",
       "      <td>-1.260776</td>\n",
       "      <td>-1.203224</td>\n",
       "      <td>-1.118793</td>\n",
       "    </tr>\n",
       "    <tr>\n",
       "      <th>26574</th>\n",
       "      <td>1.982135</td>\n",
       "      <td>1.414052</td>\n",
       "      <td>-1.524252</td>\n",
       "      <td>-1.065301</td>\n",
       "      <td>1.788446</td>\n",
       "      <td>1.794318</td>\n",
       "      <td>1.793804</td>\n",
       "    </tr>\n",
       "    <tr>\n",
       "      <th>52024</th>\n",
       "      <td>-0.566105</td>\n",
       "      <td>-0.534139</td>\n",
       "      <td>-0.350344</td>\n",
       "      <td>-1.645256</td>\n",
       "      <td>-0.476181</td>\n",
       "      <td>-0.477871</td>\n",
       "      <td>-0.425991</td>\n",
       "    </tr>\n",
       "    <tr>\n",
       "      <th>47932</th>\n",
       "      <td>-0.502925</td>\n",
       "      <td>0.439957</td>\n",
       "      <td>-0.937298</td>\n",
       "      <td>0.674563</td>\n",
       "      <td>-0.378107</td>\n",
       "      <td>-0.399218</td>\n",
       "      <td>-0.411852</td>\n",
       "    </tr>\n",
       "  </tbody>\n",
       "</table>\n",
       "</div>"
      ],
      "text/plain": [
       "          carat       cut     color   clarity    length     width     depth\n",
       "43315 -0.882002 -0.534139 -0.937298 -1.645256 -0.939806 -0.871135 -0.920850\n",
       "26723 -1.008361 -1.508234 -0.350344  0.674563 -1.260776 -1.203224 -1.118793\n",
       "26574  1.982135  1.414052 -1.524252 -1.065301  1.788446  1.794318  1.793804\n",
       "52024 -0.566105 -0.534139 -0.350344 -1.645256 -0.476181 -0.477871 -0.425991\n",
       "47932 -0.502925  0.439957 -0.937298  0.674563 -0.378107 -0.399218 -0.411852"
      ]
     },
     "execution_count": 46,
     "metadata": {},
     "output_type": "execute_result"
    }
   ],
   "source": [
    "from sklearn.preprocessing import StandardScaler\n",
    "scaler = StandardScaler()\n",
    "X_train_rescaled = pd.DataFrame(scaler.fit_transform(X_train),\n",
    "                                columns = X_train.columns,\n",
    "                                index = X_train.index)\n",
    "X_train_rescaled.head()"
   ]
  },
  {
   "cell_type": "markdown",
   "id": "a35193c1",
   "metadata": {},
   "source": [
    "#### Data Pre-processing on Testing Data"
   ]
  },
  {
   "cell_type": "code",
   "execution_count": 47,
   "id": "0b91d4cb",
   "metadata": {},
   "outputs": [
    {
     "data": {
      "text/html": [
       "<div>\n",
       "<style scoped>\n",
       "    .dataframe tbody tr th:only-of-type {\n",
       "        vertical-align: middle;\n",
       "    }\n",
       "\n",
       "    .dataframe tbody tr th {\n",
       "        vertical-align: top;\n",
       "    }\n",
       "\n",
       "    .dataframe thead th {\n",
       "        text-align: right;\n",
       "    }\n",
       "</style>\n",
       "<table border=\"1\" class=\"dataframe\">\n",
       "  <thead>\n",
       "    <tr style=\"text-align: right;\">\n",
       "      <th></th>\n",
       "      <th>carat</th>\n",
       "      <th>cut</th>\n",
       "      <th>color</th>\n",
       "      <th>clarity</th>\n",
       "      <th>length</th>\n",
       "      <th>width</th>\n",
       "      <th>depth</th>\n",
       "    </tr>\n",
       "  </thead>\n",
       "  <tbody>\n",
       "    <tr>\n",
       "      <th>40846</th>\n",
       "      <td>-0.713524</td>\n",
       "      <td>0.439957</td>\n",
       "      <td>-0.937298</td>\n",
       "      <td>0.674563</td>\n",
       "      <td>-0.565340</td>\n",
       "      <td>-0.600220</td>\n",
       "      <td>-0.807739</td>\n",
       "    </tr>\n",
       "    <tr>\n",
       "      <th>51368</th>\n",
       "      <td>-0.144908</td>\n",
       "      <td>0.439957</td>\n",
       "      <td>1.410518</td>\n",
       "      <td>0.674563</td>\n",
       "      <td>0.183592</td>\n",
       "      <td>0.063959</td>\n",
       "      <td>-0.044243</td>\n",
       "    </tr>\n",
       "    <tr>\n",
       "      <th>7306</th>\n",
       "      <td>0.234169</td>\n",
       "      <td>0.439957</td>\n",
       "      <td>-0.350344</td>\n",
       "      <td>-1.065301</td>\n",
       "      <td>0.451068</td>\n",
       "      <td>0.404787</td>\n",
       "      <td>0.450616</td>\n",
       "    </tr>\n",
       "    <tr>\n",
       "      <th>26474</th>\n",
       "      <td>3.308904</td>\n",
       "      <td>-0.534139</td>\n",
       "      <td>1.997472</td>\n",
       "      <td>0.674563</td>\n",
       "      <td>2.483882</td>\n",
       "      <td>2.484714</td>\n",
       "      <td>2.514884</td>\n",
       "    </tr>\n",
       "    <tr>\n",
       "      <th>17963</th>\n",
       "      <td>0.423707</td>\n",
       "      <td>1.414052</td>\n",
       "      <td>0.236610</td>\n",
       "      <td>1.834472</td>\n",
       "      <td>0.584805</td>\n",
       "      <td>0.614528</td>\n",
       "      <td>0.478894</td>\n",
       "    </tr>\n",
       "  </tbody>\n",
       "</table>\n",
       "</div>"
      ],
      "text/plain": [
       "          carat       cut     color   clarity    length     width     depth\n",
       "40846 -0.713524  0.439957 -0.937298  0.674563 -0.565340 -0.600220 -0.807739\n",
       "51368 -0.144908  0.439957  1.410518  0.674563  0.183592  0.063959 -0.044243\n",
       "7306   0.234169  0.439957 -0.350344 -1.065301  0.451068  0.404787  0.450616\n",
       "26474  3.308904 -0.534139  1.997472  0.674563  2.483882  2.484714  2.514884\n",
       "17963  0.423707  1.414052  0.236610  1.834472  0.584805  0.614528  0.478894"
      ]
     },
     "execution_count": 47,
     "metadata": {},
     "output_type": "execute_result"
    }
   ],
   "source": [
    "X_test_rescaled = pd.DataFrame(scaler.transform(X_test),\n",
    "                               columns = X_test.columns,\n",
    "                               index = X_test.index)\n",
    "X_test_rescaled.head()"
   ]
  },
  {
   "cell_type": "markdown",
   "id": "32276104",
   "metadata": {},
   "source": [
    "### Creating Models and Running the Experiments"
   ]
  },
  {
   "cell_type": "code",
   "execution_count": 48,
   "id": "99797c4d",
   "metadata": {},
   "outputs": [],
   "source": [
    "import mlflow"
   ]
  },
  {
   "cell_type": "code",
   "execution_count": 49,
   "id": "3fdbd23e",
   "metadata": {},
   "outputs": [
    {
     "data": {
      "text/plain": [
       "<Experiment: artifact_location='./mlruns/1', creation_time=1663698186431, experiment_id='1', last_update_time=1663698186431, lifecycle_stage='active', name='Diamond Price Prediction', tags={}>"
      ]
     },
     "execution_count": 49,
     "metadata": {},
     "output_type": "execute_result"
    }
   ],
   "source": [
    "mlflow.set_tracking_uri(\"sqlite:///mlflow.db\")\n",
    "\n",
    "mlflow.set_experiment(\"Diamond Price Prediction\")"
   ]
  },
  {
   "cell_type": "code",
   "execution_count": 50,
   "id": "710aab5e",
   "metadata": {},
   "outputs": [],
   "source": [
    "from pickle import dump\n",
    "\n",
    "dump(le, open('models/label_encoder.pkl', 'wb'))\n",
    "dump(scaler, open('models/standard_scaler.pkl', 'wb'))"
   ]
  },
  {
   "cell_type": "code",
   "execution_count": 51,
   "id": "2d31e38d",
   "metadata": {},
   "outputs": [],
   "source": [
    "from sklearn import metrics"
   ]
  },
  {
   "cell_type": "markdown",
   "id": "b207c0e1",
   "metadata": {},
   "source": [
    "#### Experiment 1 - Linear Regression"
   ]
  },
  {
   "cell_type": "code",
   "execution_count": 52,
   "id": "809607f1",
   "metadata": {},
   "outputs": [],
   "source": [
    "from sklearn.linear_model import LinearRegression"
   ]
  },
  {
   "cell_type": "code",
   "execution_count": 53,
   "id": "642deba4",
   "metadata": {},
   "outputs": [],
   "source": [
    "with mlflow.start_run():\n",
    "    mlflow.set_tag(\"test\", \"Rohit13\")\n",
    "    mlflow.set_tag(\"algo\", \"Linear Regression\")\n",
    "    # log the data for each run using log_param, log_metric\n",
    "    mlflow.log_param(\"data-path\", \"diamonds.csv\")\n",
    "    linear_regressor = LinearRegression()\n",
    "    linear_regressor.fit(X_train_rescaled, y_train)\n",
    "    y_test_pred = linear_regressor.predict(X_test_rescaled)\n",
    "    acc = metrics.r2_score(y_test, y_test_pred)\n",
    "    rmse = np.sqrt(metrics.mean_squared_error(y_test, y_test_pred))\n",
    "    mlflow.log_metric(\"R2 Score\", acc)\n",
    "    mlflow.log_metric(\"RMSE\", rmse)\n",
    "    mlflow.sklearn.log_model(linear_regressor, artifact_path = \"models\")\n",
    "    mlflow.log_artifact(\"models/standard_scaler.pkl\")\n",
    "    mlflow.log_artifact(\"models/label_encoder.pkl\")"
   ]
  },
  {
   "cell_type": "markdown",
   "id": "f81002b2",
   "metadata": {},
   "source": [
    "#### Experiment 2 - KNN Regression"
   ]
  },
  {
   "cell_type": "code",
   "execution_count": 54,
   "id": "569d6cd0",
   "metadata": {},
   "outputs": [],
   "source": [
    "from sklearn.neighbors import KNeighborsRegressor"
   ]
  },
  {
   "cell_type": "code",
   "execution_count": 55,
   "id": "05ed203d",
   "metadata": {},
   "outputs": [],
   "source": [
    "with mlflow.start_run():\n",
    "    mlflow.set_tag(\"test\", \"Rohit13\")\n",
    "    mlflow.set_tag(\"algo\", \"KNN\")\n",
    "    # log the data for each run using log_param, log_metric\n",
    "    mlflow.log_param(\"data-path\", \"diamonds.csv\")\n",
    "    k = 5\n",
    "    knn_regressor = KNeighborsRegressor(n_neighbors = k)\n",
    "    knn_regressor.fit(X_train_rescaled, y_train)\n",
    "    y_test_pred = knn_regressor.predict(X_test_rescaled)\n",
    "    acc = metrics.r2_score(y_test, y_test_pred)\n",
    "    rmse = np.sqrt(metrics.mean_squared_error(y_test, y_test_pred))\n",
    "    mlflow.log_param(\"n_neighbors\", k)\n",
    "    mlflow.log_metric(\"R2 Score\", acc)\n",
    "    mlflow.log_metric(\"RMSE\", rmse)\n",
    "    mlflow.sklearn.log_model(knn_regressor, artifact_path = \"models\")\n",
    "    mlflow.log_artifact(\"models/standard_scaler.pkl\")\n",
    "    mlflow.log_artifact(\"models/label_encoder.pkl\")"
   ]
  },
  {
   "cell_type": "markdown",
   "id": "5e60b8b0",
   "metadata": {},
   "source": [
    "#### Experiment 3 - Decision Tree Regression"
   ]
  },
  {
   "cell_type": "code",
   "execution_count": 56,
   "id": "f010f03e",
   "metadata": {},
   "outputs": [],
   "source": [
    "from sklearn.tree import DecisionTreeRegressor"
   ]
  },
  {
   "cell_type": "code",
   "execution_count": 57,
   "id": "5e6ce192",
   "metadata": {},
   "outputs": [],
   "source": [
    "with mlflow.start_run():\n",
    "    mlflow.set_tag(\"test\", \"Rohit13\")\n",
    "    mlflow.set_tag(\"algo\", \"Decision Tree Regression\")\n",
    "    # log the data for each run using log_param, log_metric\n",
    "    mlflow.log_param(\"data-path\", \"diamonds.csv\")\n",
    "    d = None\n",
    "    dt_regressor = DecisionTreeRegressor(max_depth = d)\n",
    "    dt_regressor.fit(X_train_rescaled, y_train)\n",
    "    y_test_pred = dt_regressor.predict(X_test_rescaled)\n",
    "    acc = metrics.r2_score(y_test, y_test_pred)\n",
    "    rmse = np.sqrt(metrics.mean_squared_error(y_test, y_test_pred))\n",
    "    mlflow.log_param(\"max_depth\", d)\n",
    "    mlflow.log_metric(\"R2 Score\", acc)\n",
    "    mlflow.log_metric(\"RMSE\", rmse)\n",
    "    mlflow.sklearn.log_model(dt_regressor, artifact_path = \"models\")\n",
    "    mlflow.log_artifact(\"models/standard_scaler.pkl\")\n",
    "    mlflow.log_artifact(\"models/label_encoder.pkl\")"
   ]
  },
  {
   "cell_type": "markdown",
   "id": "7b5d488e",
   "metadata": {},
   "source": [
    "#### Experiment 4 - Random Forest Regression"
   ]
  },
  {
   "cell_type": "code",
   "execution_count": 58,
   "id": "04ef1014",
   "metadata": {},
   "outputs": [],
   "source": [
    "from sklearn.ensemble import RandomForestRegressor"
   ]
  },
  {
   "cell_type": "code",
   "execution_count": 59,
   "id": "470d4356",
   "metadata": {},
   "outputs": [],
   "source": [
    "with mlflow.start_run():\n",
    "    mlflow.set_tag(\"test\", \"Rohit13\")\n",
    "    mlflow.set_tag(\"algo\", \"Random Forest Regression\")\n",
    "    # log the data for each run using log_param, log_metric\n",
    "    mlflow.log_param(\"data-path\", \"diamonds.csv\")\n",
    "    e = 100\n",
    "    rf_regressor = RandomForestRegressor(n_estimators = e)\n",
    "    rf_regressor.fit(X_train_rescaled, y_train)\n",
    "    y_test_pred = rf_regressor.predict(X_test_rescaled)\n",
    "    acc = metrics.r2_score(y_test, y_test_pred)\n",
    "    rmse = np.sqrt(metrics.mean_squared_error(y_test, y_test_pred))\n",
    "    mlflow.log_param(\"n_estimators\", e)\n",
    "    mlflow.log_metric(\"R2 Score\", acc)\n",
    "    mlflow.log_metric(\"RMSE\", rmse)\n",
    "    mlflow.sklearn.log_model(rf_regressor, artifact_path = \"models\")\n",
    "    mlflow.log_artifact(\"models/standard_scaler.pkl\")\n",
    "    mlflow.log_artifact(\"models/label_encoder.pkl\")"
   ]
  },
  {
   "cell_type": "markdown",
   "id": "364e37a3",
   "metadata": {},
   "source": [
    "#### Experiment 5 - Decision Tree Regression with Hyperparameter Tuning"
   ]
  },
  {
   "cell_type": "code",
   "execution_count": 60,
   "id": "673fc831",
   "metadata": {},
   "outputs": [],
   "source": [
    "from sklearn.model_selection import GridSearchCV"
   ]
  },
  {
   "cell_type": "code",
   "execution_count": 61,
   "id": "14fc9843",
   "metadata": {},
   "outputs": [
    {
     "name": "stdout",
     "output_type": "stream",
     "text": [
      "Fitting 5 folds for each of 100 candidates, totalling 500 fits\n"
     ]
    }
   ],
   "source": [
    "# Enabling automatic MLflow logging for scikit-learn runs\n",
    "mlflow.sklearn.autolog(max_tuning_runs = None)\n",
    "\n",
    "with mlflow.start_run():\n",
    "    tuned_parameters = [{'n_neighbors': [i for i in range(1, 51)], 'p': [1, 2]}]\n",
    "    \n",
    "    gs = GridSearchCV(\n",
    "        estimator = KNeighborsRegressor(),\n",
    "        param_grid = tuned_parameters,\n",
    "        scoring = 'neg_mean_squared_error',\n",
    "        cv = 5,\n",
    "        return_train_score = True,\n",
    "        verbose = 1\n",
    "    )\n",
    "    gs.fit(X_train_rescaled, y_train)\n",
    "    \n",
    "    # Disabling autologging\n",
    "    mlflow.sklearn.autolog(disable = True)"
   ]
  },
  {
   "cell_type": "code",
   "execution_count": 62,
   "id": "07cce21a",
   "metadata": {},
   "outputs": [],
   "source": [
    "with mlflow.start_run():\n",
    "    mlflow.set_tag(\"test\", \"Rohit13\")\n",
    "    mlflow.set_tag(\"algo\", \"KNN\")\n",
    "    # log the data for each run using log_param, log_metric\n",
    "    mlflow.log_param(\"data-path\", \"diamonds.csv\")\n",
    "    k = 3\n",
    "    p = 2\n",
    "    knn_regressor = KNeighborsRegressor(n_neighbors = k, p = p)\n",
    "    knn_regressor.fit(X_train_rescaled, y_train)\n",
    "    y_test_pred = knn_regressor.predict(X_test_rescaled)\n",
    "    acc = metrics.r2_score(y_test, y_test_pred)\n",
    "    rmse = np.sqrt(metrics.mean_squared_error(y_test, y_test_pred))\n",
    "    mlflow.log_param(\"p\", p)\n",
    "    mlflow.log_param(\"n_neighbors\", k)\n",
    "    mlflow.log_metric(\"R2 Score\", acc)\n",
    "    mlflow.log_metric(\"RMSE\", rmse)\n",
    "    mlflow.sklearn.log_model(knn_regressor, artifact_path = \"models\")\n",
    "    mlflow.log_artifact(\"models/standard_scaler.pkl\")\n",
    "    mlflow.log_artifact(\"models/label_encoder.pkl\")"
   ]
  },
  {
   "cell_type": "markdown",
   "id": "371b6bba",
   "metadata": {},
   "source": [
    "#### Therefore, the accuracy of the Random Forest Regression model is higher compared to the other models.\n",
    "#### But we will not be using Random Forest Regression Model due to the large file size. Instead we will use KNN Regression Model which gave the second best scores."
   ]
  },
  {
   "cell_type": "code",
   "execution_count": null,
   "id": "5849b11a",
   "metadata": {},
   "outputs": [],
   "source": []
  }
 ],
 "metadata": {
  "kernelspec": {
   "display_name": "Python 3 (ipykernel)",
   "language": "python",
   "name": "python3"
  },
  "language_info": {
   "codemirror_mode": {
    "name": "ipython",
    "version": 3
   },
   "file_extension": ".py",
   "mimetype": "text/x-python",
   "name": "python",
   "nbconvert_exporter": "python",
   "pygments_lexer": "ipython3",
   "version": "3.9.12"
  },
  "vscode": {
   "interpreter": {
    "hash": "1bde5bcc3dfcaef0060e339ec1e9ae99e3532c0ceed7b106c6218ff7fe186df9"
   }
  }
 },
 "nbformat": 4,
 "nbformat_minor": 5
}
